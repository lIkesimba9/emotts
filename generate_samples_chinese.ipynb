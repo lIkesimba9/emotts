{
 "cells": [
  {
   "cell_type": "code",
   "execution_count": 1,
   "id": "f073e615",
   "metadata": {},
   "outputs": [],
   "source": [
    "import json\n",
    "import re\n",
    "import subprocess\n",
    "import torch\n",
    "from pathlib import Path\n",
    "\n",
    "from scipy.io.wavfile import write as wav_write\n",
    "from tqdm.notebook import tqdm\n",
    "\n",
    "from src.models.hifi_gan.models import Generator, load_model as load_hifi\n",
    "from src.train_config import TrainParams, load_config"
   ]
  },
  {
   "cell_type": "code",
   "execution_count": 2,
   "id": "90404130",
   "metadata": {},
   "outputs": [],
   "source": [
    "config = load_config(\"configs/freest_tune.yml\")\n",
    "checkpoint_path = Path(f\"checkpoints/{config.checkpoint_name}\")"
   ]
  },
  {
   "cell_type": "code",
   "execution_count": 3,
   "id": "23d1972c",
   "metadata": {},
   "outputs": [],
   "source": [
    "generators = [file for file in (checkpoint_path / \"hifi\").rglob(\"*.*\") if file.name.startswith(\"g_\")]"
   ]
  },
  {
   "cell_type": "code",
   "execution_count": 6,
   "id": "349ecffc",
   "metadata": {},
   "outputs": [],
   "source": [
    "device = \"cuda:0\"  # config.device"
   ]
  },
  {
   "cell_type": "code",
   "execution_count": 7,
   "id": "d80626f1",
   "metadata": {},
   "outputs": [],
   "source": [
    "PHONEMES_CHI = [\n",
    "    ['qing1', 'chu1', 'yu2', 'lan2', 'er2', 'sheng4', 'yu2', 'lan2'],\n",
    "    ['tian1', 'dao4', 'chou2', 'qin2'],\n",
    "    ['jiu3', 'tian1', 'lan3', 'yue4'],\n",
    "    ['sai1', 'weng1', 'shi1', 'ma3', '，', 'yan1', 'zhi1', 'fei1', 'fu2'],\n",
    "    ['yi1', 'ming2', 'jing1', 'ren2'],\n",
    "    ['yi1', 'si1', 'bu4', 'gou3'],\n",
    "    ['yi1', 'jian4', 'shuang1', 'diao1'],\n",
    "    ['shan1', 'yu3', 'yu4', 'lai2', 'feng1', 'man3', 'lou2'],\n",
    "    ['ma2', 'que4', 'sui1', 'xiao3', '，', 'wu3', 'zang4', 'ju4', 'quan2'],\n",
    "    ['qiang2', 'long2', 'nan2', 'ya1', 'di4', 'tou2', 'she2'],\n",
    "    ['qian2', 'pa4', 'lang2', 'hou4', 'pa4', 'hu3'],\n",
    "    ['da4', 'zhi4', 'ruo4', 'yu2']\n",
    " ]"
   ]
  },
  {
   "cell_type": "code",
   "execution_count": null,
   "id": "d4eff9bd",
   "metadata": {},
   "outputs": [],
   "source": []
  },
  {
   "cell_type": "code",
   "execution_count": 8,
   "id": "75ecc3a4",
   "metadata": {},
   "outputs": [],
   "source": [
    "lexicon_path = Path(\"models/pinyin-lexicon_with_tab.txt\")"
   ]
  },
  {
   "cell_type": "code",
   "execution_count": 9,
   "id": "71722200",
   "metadata": {},
   "outputs": [],
   "source": [
    "def read_lexicon(lex_path):\n",
    "    lexicon = {}\n",
    "    with open(lex_path) as f:\n",
    "        for line in f:\n",
    "            temp = re.split(r\"\\t\", line.strip(\"\\n\"))\n",
    "            word = temp[0]\n",
    "            phones = temp[1:]\n",
    "            if word.lower() not in lexicon:\n",
    "                lexicon[word.lower()] = phones[0]\n",
    "    return lexicon"
   ]
  },
  {
   "cell_type": "code",
   "execution_count": 10,
   "id": "6472e135",
   "metadata": {},
   "outputs": [],
   "source": [
    "lexicon = read_lexicon(lexicon_path)"
   ]
  },
  {
   "cell_type": "code",
   "execution_count": 11,
   "id": "7a5ab4af",
   "metadata": {},
   "outputs": [],
   "source": [
    "PHONEMES = []\n",
    "for phonems in PHONEMES_CHI:\n",
    "    l = []\n",
    "    \n",
    "    for pho in phonems:\n",
    "        try:\n",
    "            l += lexicon[pho].split(' ')\n",
    "        except:\n",
    "            pass\n",
    "    PHONEMES.append(l)"
   ]
  },
  {
   "cell_type": "code",
   "execution_count": 29,
   "id": "af07f1c7",
   "metadata": {},
   "outputs": [],
   "source": [
    "#PHONEMES"
   ]
  },
  {
   "cell_type": "code",
   "execution_count": 14,
   "id": "32f6fceb",
   "metadata": {},
   "outputs": [],
   "source": [
    "def to_phones(PHONEMES_TO_IDS, phones):\n",
    "    \"\"\"For new ones\"\"\"\n",
    "    phonemes_ids = (\n",
    "       [PHONEMES_TO_IDS[ph] for ph in phones]\n",
    "    )\n",
    "    return phonemes_ids\n"
   ]
  },
  {
   "cell_type": "code",
   "execution_count": 15,
   "id": "a5a48c87",
   "metadata": {},
   "outputs": [],
   "source": [
    "phonemes_list = []\n",
    "with open(checkpoint_path / \"feature\"/ \"phonemes.json\") as f:\n",
    "    phonemes_to_ids = json.load(f)\n",
    "for hp in PHONEMES:\n",
    "    phoneme_ids = to_phones(phonemes_to_ids, hp)\n",
    "    phonemes_list.append(phoneme_ids)"
   ]
  },
  {
   "cell_type": "code",
   "execution_count": 16,
   "id": "1f108e75",
   "metadata": {},
   "outputs": [],
   "source": [
    "feature_model = torch.load(checkpoint_path / \"feature\" / \"feature_model.pth\", map_location=device)"
   ]
  },
  {
   "cell_type": "code",
   "execution_count": 17,
   "id": "b74220e6",
   "metadata": {},
   "outputs": [],
   "source": [
    "feature_model = feature_model.eval()"
   ]
  },
  {
   "cell_type": "code",
   "execution_count": 18,
   "id": "2eeec03d",
   "metadata": {},
   "outputs": [],
   "source": [
    "def get_tacotron_batch(\n",
    "    phonemes_ids, reference, speaker_id, device, mels_mean, mels_std\n",
    "):\n",
    "    text_lengths_tensor = torch.LongTensor([len(phonemes_ids)])\n",
    "    reference = (reference - mels_mean) / mels_std\n",
    "    reference = reference.unsqueeze(0)\n",
    "    reference = reference.permute(0, 2, 1).to(device)\n",
    "    phonemes_ids_tensor = torch.LongTensor(phonemes_ids).unsqueeze(0).to(device)\n",
    "    speaker_ids_tensor = torch.LongTensor([speaker_id]).to(device)\n",
    "    return phonemes_ids_tensor, text_lengths_tensor, speaker_ids_tensor, reference"
   ]
  },
  {
   "cell_type": "code",
   "execution_count": 19,
   "id": "467e85f1",
   "metadata": {},
   "outputs": [],
   "source": [
    "reference_pathes = Path(f\"references/{config.lang}\")"
   ]
  },
  {
   "cell_type": "code",
   "execution_count": 20,
   "id": "6dd0cd65",
   "metadata": {},
   "outputs": [],
   "source": [
    "generated_path = Path(f\"generated_hifi/{config.checkpoint_name}\")"
   ]
  },
  {
   "cell_type": "code",
   "execution_count": 21,
   "id": "23974a7f",
   "metadata": {},
   "outputs": [],
   "source": [
    "with open(checkpoint_path / \"feature\"/ \"speakers.json\") as f:\n",
    "    speaker_to_id = json.load(f)"
   ]
  },
  {
   "cell_type": "code",
   "execution_count": 22,
   "id": "e3f77453",
   "metadata": {},
   "outputs": [],
   "source": [
    "mels_mean = torch.load(checkpoint_path / \"feature\" / \"mels_mean.pth\", map_location=device).float()\n",
    "mels_std = torch.load(checkpoint_path / \"feature\" / \"mels_std.pth\", map_location=device).float()"
   ]
  },
  {
   "cell_type": "code",
   "execution_count": 23,
   "id": "c6afd502",
   "metadata": {},
   "outputs": [
    {
     "data": {
      "application/vnd.jupyter.widget-view+json": {
       "model_id": "53cebcc5a2bc47fb87a35cb3cdfbb042",
       "version_major": 2,
       "version_minor": 0
      },
      "text/plain": [
       "  0%|          | 0/50 [00:00<?, ?it/s]"
      ]
     },
     "metadata": {},
     "output_type": "display_data"
    }
   ],
   "source": [
    "for reference in tqdm(list(reference_pathes.rglob(\"*.pkl\"))):\n",
    "    speaker = reference.parent.name\n",
    "    speaker_id = speaker_to_id[speaker]\n",
    "    ref_mel = torch.load(reference, map_location=device)\n",
    "    for i, phonemes in enumerate(phonemes_list):\n",
    "        batch = get_tacotron_batch(phonemes, ref_mel, speaker_id, device, mels_mean, mels_std)\n",
    "        with torch.no_grad():\n",
    "            mels = feature_model.inference(batch)\n",
    "            mels = mels.permute(0, 2, 1).squeeze(0)\n",
    "            mels = mels * mels_std.to(device) + mels_mean.to(device)\n",
    "            x = mels.unsqueeze(0)\n",
    "            for generator_path in generators:\n",
    "                state_dict = torch.load(generator_path, map_location=\"cpu\")\n",
    "                state_dict[\"generator\"] = {k: v.to(device) for k, v in state_dict[\"generator\"].items()}\n",
    "                generator = Generator(config=config.train_hifi.model_param, num_mels=config.n_mels).to(device)\n",
    "                generator.load_state_dict(state_dict[\"generator\"])\n",
    "                generator.remove_weight_norm()\n",
    "                generator.eval()\n",
    "                y_g_hat = generator(x)\n",
    "                audio = y_g_hat.squeeze()\n",
    "                audio = audio * 32768\n",
    "                audio = audio.type(torch.int16).detach().cpu().numpy()\n",
    "                save_path = generated_path / generator_path.stem / speaker / reference.stem\n",
    "                save_path.mkdir(exist_ok=True, parents=True)\n",
    "                wav_write(save_path / f\"{i + 1}.wav\", 22050, audio)\n",
    "                torch.cuda.empty_cache()\n"
   ]
  },
  {
   "cell_type": "code",
   "execution_count": null,
   "id": "7d225a75",
   "metadata": {},
   "outputs": [],
   "source": []
  }
 ],
 "metadata": {
  "kernelspec": {
   "display_name": "Python 3 (ipykernel)",
   "language": "python",
   "name": "python3"
  },
  "language_info": {
   "codemirror_mode": {
    "name": "ipython",
    "version": 3
   },
   "file_extension": ".py",
   "mimetype": "text/x-python",
   "name": "python",
   "nbconvert_exporter": "python",
   "pygments_lexer": "ipython3",
   "version": "3.9.12"
  }
 },
 "nbformat": 4,
 "nbformat_minor": 5
}

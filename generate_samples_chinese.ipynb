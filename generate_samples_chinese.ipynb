{
 "cells": [
  {
   "cell_type": "code",
   "execution_count": 1,
   "id": "f073e615",
   "metadata": {},
   "outputs": [
    {
     "ename": "ImportError",
     "evalue": "cannot import name 'pad' from 'src.models.fastspeech2.utils' (/home/simba9/graduaded_project/emotts/src/models/fastspeech2/utils.py)",
     "output_type": "error",
     "traceback": [
      "\u001b[0;31m---------------------------------------------------------------------------\u001b[0m",
      "\u001b[0;31mImportError\u001b[0m                               Traceback (most recent call last)",
      "Input \u001b[0;32mIn [1]\u001b[0m, in \u001b[0;36m<cell line: 11>\u001b[0;34m()\u001b[0m\n\u001b[1;32m      8\u001b[0m \u001b[38;5;28;01mfrom\u001b[39;00m \u001b[38;5;21;01mtqdm\u001b[39;00m\u001b[38;5;21;01m.\u001b[39;00m\u001b[38;5;21;01mnotebook\u001b[39;00m \u001b[38;5;28;01mimport\u001b[39;00m tqdm\n\u001b[1;32m     10\u001b[0m \u001b[38;5;28;01mfrom\u001b[39;00m \u001b[38;5;21;01msrc\u001b[39;00m\u001b[38;5;21;01m.\u001b[39;00m\u001b[38;5;21;01mmodels\u001b[39;00m\u001b[38;5;21;01m.\u001b[39;00m\u001b[38;5;21;01mhifi_gan\u001b[39;00m\u001b[38;5;21;01m.\u001b[39;00m\u001b[38;5;21;01mmodels\u001b[39;00m \u001b[38;5;28;01mimport\u001b[39;00m Generator, load_model \u001b[38;5;28;01mas\u001b[39;00m load_hifi\n\u001b[0;32m---> 11\u001b[0m \u001b[38;5;28;01mfrom\u001b[39;00m \u001b[38;5;21;01msrc\u001b[39;00m\u001b[38;5;21;01m.\u001b[39;00m\u001b[38;5;21;01mtrain_config\u001b[39;00m \u001b[38;5;28;01mimport\u001b[39;00m TrainParams, load_config\n\u001b[1;32m     12\u001b[0m \u001b[38;5;28;01mfrom\u001b[39;00m \u001b[38;5;21;01msrc\u001b[39;00m\u001b[38;5;21;01m.\u001b[39;00m\u001b[38;5;21;01mpreprocessing\u001b[39;00m\u001b[38;5;21;01m.\u001b[39;00m\u001b[38;5;21;01mtext\u001b[39;00m\u001b[38;5;21;01m.\u001b[39;00m\u001b[38;5;21;01mcleaners\u001b[39;00m \u001b[38;5;28;01mimport\u001b[39;00m english_cleaners\n",
      "File \u001b[0;32m~/graduaded_project/emotts/src/train_config.py:10\u001b[0m, in \u001b[0;36m<module>\u001b[0;34m\u001b[0m\n\u001b[1;32m      8\u001b[0m \u001b[38;5;28;01mfrom\u001b[39;00m \u001b[38;5;21;01msrc\u001b[39;00m\u001b[38;5;21;01m.\u001b[39;00m\u001b[38;5;21;01mdata_process\u001b[39;00m\u001b[38;5;21;01m.\u001b[39;00m\u001b[38;5;21;01mconfig\u001b[39;00m \u001b[38;5;28;01mimport\u001b[39;00m DatasetParams\n\u001b[1;32m      9\u001b[0m \u001b[38;5;28;01mfrom\u001b[39;00m \u001b[38;5;21;01msrc\u001b[39;00m\u001b[38;5;21;01m.\u001b[39;00m\u001b[38;5;21;01mmodels\u001b[39;00m\u001b[38;5;21;01m.\u001b[39;00m\u001b[38;5;21;01mfeature_models\u001b[39;00m\u001b[38;5;21;01m.\u001b[39;00m\u001b[38;5;21;01mconfig\u001b[39;00m \u001b[38;5;28;01mimport\u001b[39;00m ModelParams\n\u001b[0;32m---> 10\u001b[0m \u001b[38;5;28;01mfrom\u001b[39;00m \u001b[38;5;21;01msrc\u001b[39;00m\u001b[38;5;21;01m.\u001b[39;00m\u001b[38;5;21;01mmodels\u001b[39;00m\u001b[38;5;21;01m.\u001b[39;00m\u001b[38;5;21;01mfastspeech2\u001b[39;00m\u001b[38;5;21;01m.\u001b[39;00m\u001b[38;5;21;01mconfig\u001b[39;00m \u001b[38;5;28;01mimport\u001b[39;00m FastSpeech2Params\n\u001b[1;32m     11\u001b[0m \u001b[38;5;28;01mfrom\u001b[39;00m \u001b[38;5;21;01msrc\u001b[39;00m\u001b[38;5;21;01m.\u001b[39;00m\u001b[38;5;21;01mmodels\u001b[39;00m\u001b[38;5;21;01m.\u001b[39;00m\u001b[38;5;21;01mhifi_gan\u001b[39;00m\u001b[38;5;21;01m.\u001b[39;00m\u001b[38;5;21;01mhifi_config\u001b[39;00m \u001b[38;5;28;01mimport\u001b[39;00m TrainParamsHiFi\n\u001b[1;32m     14\u001b[0m \u001b[38;5;129m@dataclass\u001b[39m\n\u001b[1;32m     15\u001b[0m \u001b[38;5;28;01mclass\u001b[39;00m \u001b[38;5;21;01mSchedulerParams\u001b[39;00m:\n",
      "File \u001b[0;32m~/graduaded_project/emotts/src/models/fastspeech2/__init__.py:1\u001b[0m, in \u001b[0;36m<module>\u001b[0;34m\u001b[0m\n\u001b[0;32m----> 1\u001b[0m \u001b[38;5;28;01mfrom\u001b[39;00m \u001b[38;5;21;01m.\u001b[39;00m\u001b[38;5;21;01mfastspeech2\u001b[39;00m \u001b[38;5;28;01mimport\u001b[39;00m FastSpeech2\n\u001b[1;32m      2\u001b[0m \u001b[38;5;28;01mfrom\u001b[39;00m \u001b[38;5;21;01m.\u001b[39;00m\u001b[38;5;21;01mloss\u001b[39;00m \u001b[38;5;28;01mimport\u001b[39;00m FastSpeech2Loss\n\u001b[1;32m      3\u001b[0m \u001b[38;5;28;01mfrom\u001b[39;00m \u001b[38;5;21;01m.\u001b[39;00m\u001b[38;5;21;01moptimizer\u001b[39;00m \u001b[38;5;28;01mimport\u001b[39;00m ScheduledOptim\n",
      "File \u001b[0;32m~/graduaded_project/emotts/src/models/fastspeech2/fastspeech2.py:9\u001b[0m, in \u001b[0;36m<module>\u001b[0;34m\u001b[0m\n\u001b[1;32m      6\u001b[0m \u001b[38;5;28;01mimport\u001b[39;00m \u001b[38;5;21;01mtorch\u001b[39;00m\u001b[38;5;21;01m.\u001b[39;00m\u001b[38;5;21;01mnn\u001b[39;00m\u001b[38;5;21;01m.\u001b[39;00m\u001b[38;5;21;01mfunctional\u001b[39;00m \u001b[38;5;28;01mas\u001b[39;00m \u001b[38;5;21;01mF\u001b[39;00m\n\u001b[1;32m      8\u001b[0m \u001b[38;5;28;01mfrom\u001b[39;00m \u001b[38;5;21;01m.\u001b[39;00m\u001b[38;5;21;01mtransformer\u001b[39;00m \u001b[38;5;28;01mimport\u001b[39;00m Encoder, Decoder, PostNet\n\u001b[0;32m----> 9\u001b[0m \u001b[38;5;28;01mfrom\u001b[39;00m \u001b[38;5;21;01m.\u001b[39;00m\u001b[38;5;21;01mmodules\u001b[39;00m \u001b[38;5;28;01mimport\u001b[39;00m VarianceAdaptor\n\u001b[1;32m     10\u001b[0m \u001b[38;5;28;01mfrom\u001b[39;00m \u001b[38;5;21;01m.\u001b[39;00m\u001b[38;5;21;01mutils\u001b[39;00m \u001b[38;5;28;01mimport\u001b[39;00m get_mask_from_lengths\n\u001b[1;32m     12\u001b[0m \u001b[38;5;28;01mfrom\u001b[39;00m \u001b[38;5;21;01msrc\u001b[39;00m\u001b[38;5;21;01m.\u001b[39;00m\u001b[38;5;21;01mdata_process\u001b[39;00m\u001b[38;5;21;01m.\u001b[39;00m\u001b[38;5;21;01mfastspeech2_dataset\u001b[39;00m \u001b[38;5;28;01mimport\u001b[39;00m FastSpeech2Batch\n",
      "File \u001b[0;32m~/graduaded_project/emotts/src/models/fastspeech2/modules.py:12\u001b[0m, in \u001b[0;36m<module>\u001b[0;34m\u001b[0m\n\u001b[1;32m      9\u001b[0m \u001b[38;5;28;01mimport\u001b[39;00m \u001b[38;5;21;01mnumpy\u001b[39;00m \u001b[38;5;28;01mas\u001b[39;00m \u001b[38;5;21;01mnp\u001b[39;00m\n\u001b[1;32m     10\u001b[0m \u001b[38;5;28;01mimport\u001b[39;00m \u001b[38;5;21;01mtorch\u001b[39;00m\u001b[38;5;21;01m.\u001b[39;00m\u001b[38;5;21;01mnn\u001b[39;00m\u001b[38;5;21;01m.\u001b[39;00m\u001b[38;5;21;01mfunctional\u001b[39;00m \u001b[38;5;28;01mas\u001b[39;00m \u001b[38;5;21;01mF\u001b[39;00m\n\u001b[0;32m---> 12\u001b[0m \u001b[38;5;28;01mfrom\u001b[39;00m \u001b[38;5;21;01m.\u001b[39;00m\u001b[38;5;21;01mutils\u001b[39;00m \u001b[38;5;28;01mimport\u001b[39;00m get_mask_from_lengths, pad\n\u001b[1;32m     14\u001b[0m \u001b[38;5;28;01mfrom\u001b[39;00m \u001b[38;5;21;01m.\u001b[39;00m\u001b[38;5;21;01mconfig\u001b[39;00m \u001b[38;5;28;01mimport\u001b[39;00m (\n\u001b[1;32m     15\u001b[0m     VariancePredictorParams,\n\u001b[1;32m     16\u001b[0m     VarianceEmbeddingParams,\n\u001b[1;32m     17\u001b[0m     VarianceAdaptorParams,\n\u001b[1;32m     18\u001b[0m )\n\u001b[1;32m     20\u001b[0m \u001b[38;5;28;01mclass\u001b[39;00m \u001b[38;5;21;01mVarianceAdaptor\u001b[39;00m(nn\u001b[38;5;241m.\u001b[39mModule):\n",
      "\u001b[0;31mImportError\u001b[0m: cannot import name 'pad' from 'src.models.fastspeech2.utils' (/home/simba9/graduaded_project/emotts/src/models/fastspeech2/utils.py)"
     ]
    }
   ],
   "source": [
    "import json\n",
    "import re\n",
    "import subprocess\n",
    "import torch\n",
    "from pathlib import Path\n",
    "\n",
    "from scipy.io.wavfile import write as wav_write\n",
    "from tqdm.notebook import tqdm\n",
    "\n",
    "from src.models.hifi_gan.models import Generator, load_model as load_hifi\n",
    "from src.train_config import TrainParams, load_config\n",
    "from src.preprocessing.text.cleaners import english_cleaners"
   ]
  },
  {
   "cell_type": "code",
   "execution_count": null,
   "id": "90404130",
   "metadata": {},
   "outputs": [],
   "source": [
    "config = load_config(\"configs/freest.yml\")\n",
    "checkpoint_path = Path(f\"checkpoints/{config.checkpoint_name}\")"
   ]
  },
  {
   "cell_type": "code",
   "execution_count": null,
   "id": "23d1972c",
   "metadata": {},
   "outputs": [],
   "source": [
    "generators = [file for file in Path(\"/home/simba9/graduaded_project/emotts/models/en/hifi\").rglob(\"*\") if file.name.startswith(\"g_\")]"
   ]
  },
  {
   "cell_type": "code",
   "execution_count": 2,
   "id": "64440f58",
   "metadata": {},
   "outputs": [
    {
     "ename": "NameError",
     "evalue": "name 'generators' is not defined",
     "output_type": "error",
     "traceback": [
      "\u001b[0;31m---------------------------------------------------------------------------\u001b[0m",
      "\u001b[0;31mNameError\u001b[0m                                 Traceback (most recent call last)",
      "Input \u001b[0;32mIn [2]\u001b[0m, in \u001b[0;36m<cell line: 1>\u001b[0;34m()\u001b[0m\n\u001b[0;32m----> 1\u001b[0m \u001b[43mgenerators\u001b[49m\n",
      "\u001b[0;31mNameError\u001b[0m: name 'generators' is not defined"
     ]
    }
   ],
   "source": [
    "generators"
   ]
  },
  {
   "cell_type": "code",
   "execution_count": 16,
   "id": "349ecffc",
   "metadata": {},
   "outputs": [],
   "source": [
    "device = \"cuda:0\"  # config.device"
   ]
  },
  {
   "cell_type": "code",
   "execution_count": 3,
   "id": "d80626f1",
   "metadata": {},
   "outputs": [],
   "source": [
    "PHONEMES_CHI = [\n",
    "    ['qing1', 'chu1', 'yu2', 'lan2', 'er2', 'sheng4', 'yu2', 'lan2'],\n",
    "    ['tian1', 'dao4', 'chou2', 'qin2'],\n",
    "    ['jiu3', 'tian1', 'lan3', 'yue4'],\n",
    "    ['sai1', 'weng1', 'shi1', 'ma3', '，', 'yan1', 'zhi1', 'fei1', 'fu2'],\n",
    "    ['yi1', 'ming2', 'jing1', 'ren2'],\n",
    "    ['yi1', 'si1', 'bu4', 'gou3'],\n",
    "    ['yi1', 'jian4', 'shuang1', 'diao1'],\n",
    "    ['shan1', 'yu3', 'yu4', 'lai2', 'feng1', 'man3', 'lou2'],\n",
    "    ['ma2', 'que4', 'sui1', 'xiao3', '，', 'wu3', 'zang4', 'ju4', 'quan2'],\n",
    "    ['qiang2', 'long2', 'nan2', 'ya1', 'di4', 'tou2', 'she2'],\n",
    "    ['qian2', 'pa4', 'lang2', 'hou4', 'pa4', 'hu3'],\n",
    "    ['da4', 'zhi4', 'ruo4', 'yu2']\n",
    " ]"
   ]
  },
  {
   "cell_type": "code",
   "execution_count": null,
   "id": "d4eff9bd",
   "metadata": {},
   "outputs": [],
   "source": []
  },
  {
   "cell_type": "code",
   "execution_count": 4,
   "id": "75ecc3a4",
   "metadata": {},
   "outputs": [],
   "source": [
    "lexicon_path = Path(\"models/pinyin-lexicon_with_tab.txt\")"
   ]
  },
  {
   "cell_type": "code",
   "execution_count": 5,
   "id": "71722200",
   "metadata": {},
   "outputs": [],
   "source": [
    "def read_lexicon(lex_path):\n",
    "    lexicon = {}\n",
    "    with open(lex_path) as f:\n",
    "        for line in f:\n",
    "            temp = re.split(r\"\\t\", line.strip(\"\\n\"))\n",
    "            word = temp[0]\n",
    "            phones = temp[1:]\n",
    "            if word.lower() not in lexicon:\n",
    "                lexicon[word.lower()] = phones[0]\n",
    "    return lexicon"
   ]
  },
  {
   "cell_type": "code",
   "execution_count": 6,
   "id": "6472e135",
   "metadata": {},
   "outputs": [],
   "source": [
    "lexicon = read_lexicon(lexicon_path)"
   ]
  },
  {
   "cell_type": "code",
   "execution_count": 7,
   "id": "7a5ab4af",
   "metadata": {},
   "outputs": [],
   "source": [
    "PHONEMES = []\n",
    "for phonems in PHONEMES_CHI:\n",
    "    l = []\n",
    "    \n",
    "    for pho in phonems:\n",
    "        try:\n",
    "            l += lexicon[pho].split(' ')\n",
    "        except:\n",
    "            pass\n",
    "    PHONEMES.append(l)"
   ]
  },
  {
   "cell_type": "code",
   "execution_count": 8,
   "id": "26a88b13",
   "metadata": {},
   "outputs": [
    {
     "data": {
      "text/plain": [
       "[['q',\n",
       "  'i1',\n",
       "  'ng',\n",
       "  'ch',\n",
       "  'u1',\n",
       "  'v2',\n",
       "  'l',\n",
       "  'a2',\n",
       "  'n',\n",
       "  'e2',\n",
       "  'r',\n",
       "  'sh',\n",
       "  'e4',\n",
       "  'ng',\n",
       "  'v2',\n",
       "  'l',\n",
       "  'a2',\n",
       "  'n'],\n",
       " ['t', 'ia1', 'n', 'd', 'ao4', 'ch', 'ou2', 'q', 'i2', 'n'],\n",
       " ['j', 'iou3', 't', 'ia1', 'n', 'l', 'a3', 'n', 've4'],\n",
       " ['s',\n",
       "  'ai1',\n",
       "  'ue1',\n",
       "  'n',\n",
       "  'sh',\n",
       "  'ii1',\n",
       "  'm',\n",
       "  'a3',\n",
       "  'ia1',\n",
       "  'n',\n",
       "  'zh',\n",
       "  'ii1',\n",
       "  'f',\n",
       "  'ei1',\n",
       "  'f',\n",
       "  'u2'],\n",
       " ['i1', 'm', 'i2', 'ng', 'j', 'i1', 'ng', 'r', 'e2', 'n'],\n",
       " ['i1', 's', 'ii1', 'b', 'u4', 'g', 'ou3'],\n",
       " ['i1', 'j', 'ia4', 'n', 'sh', 'ua1', 'ng', 'd', 'iao1'],\n",
       " ['sh',\n",
       "  'a1',\n",
       "  'n',\n",
       "  'v3',\n",
       "  'v4',\n",
       "  'l',\n",
       "  'ai2',\n",
       "  'f',\n",
       "  'e1',\n",
       "  'ng',\n",
       "  'm',\n",
       "  'a3',\n",
       "  'n',\n",
       "  'l',\n",
       "  'ou2'],\n",
       " ['m',\n",
       "  'a2',\n",
       "  'q',\n",
       "  've4',\n",
       "  's',\n",
       "  'uei1',\n",
       "  'x',\n",
       "  'iao3',\n",
       "  'u3',\n",
       "  'z',\n",
       "  'a4',\n",
       "  'ng',\n",
       "  'j',\n",
       "  'v4',\n",
       "  'q',\n",
       "  'va2',\n",
       "  'n'],\n",
       " ['q',\n",
       "  'ia2',\n",
       "  'ng',\n",
       "  'l',\n",
       "  'o2',\n",
       "  'ng',\n",
       "  'n',\n",
       "  'a2',\n",
       "  'n',\n",
       "  'ia1',\n",
       "  'd',\n",
       "  'i4',\n",
       "  't',\n",
       "  'ou2',\n",
       "  'sh',\n",
       "  'e2'],\n",
       " ['q',\n",
       "  'ia2',\n",
       "  'n',\n",
       "  'p',\n",
       "  'a4',\n",
       "  'l',\n",
       "  'a2',\n",
       "  'ng',\n",
       "  'h',\n",
       "  'ou4',\n",
       "  'p',\n",
       "  'a4',\n",
       "  'h',\n",
       "  'u3'],\n",
       " ['d', 'a4', 'zh', 'ii4', 'r', 'uo4', 'v2']]"
      ]
     },
     "execution_count": 8,
     "metadata": {},
     "output_type": "execute_result"
    }
   ],
   "source": [
    "PHONEMES"
   ]
  },
  {
   "cell_type": "code",
   "execution_count": 29,
   "id": "af07f1c7",
   "metadata": {},
   "outputs": [],
   "source": [
    "#PHONEMES"
   ]
  },
  {
   "cell_type": "code",
   "execution_count": 30,
   "id": "32f6fceb",
   "metadata": {},
   "outputs": [],
   "source": [
    "def to_phones(PHONEMES_TO_IDS, phones):\n",
    "    \"\"\"For new ones\"\"\"\n",
    "    phonemes_ids = (\n",
    "       [PHONEMES_TO_IDS[ph] for ph in phones]\n",
    "    )\n",
    "    return phonemes_ids\n"
   ]
  },
  {
   "cell_type": "code",
   "execution_count": 31,
   "id": "a5a48c87",
   "metadata": {},
   "outputs": [],
   "source": [
    "phonemes_list = []\n",
    "with open(checkpoint_path / \"feature\"/ \"phonemes.json\") as f:\n",
    "    phonemes_to_ids = json.load(f)\n",
    "for hp in PHONEMES:\n",
    "    phoneme_ids = to_phones(phonemes_to_ids, hp)\n",
    "    phonemes_list.append(phoneme_ids)"
   ]
  },
  {
   "cell_type": "code",
   "execution_count": 22,
   "id": "1f108e75",
   "metadata": {},
   "outputs": [],
   "source": [
    "feature_model = torch.load(checkpoint_path / \"feature\" / \"feature_model.pth\", map_location=device)"
   ]
  },
  {
   "cell_type": "code",
   "execution_count": 32,
   "id": "b74220e6",
   "metadata": {},
   "outputs": [],
   "source": [
    "feature_model = feature_model.eval()"
   ]
  },
  {
   "cell_type": "code",
   "execution_count": 33,
   "id": "2eeec03d",
   "metadata": {},
   "outputs": [],
   "source": [
    "def get_tacotron_batch(\n",
    "    phonemes_ids, reference, speaker_id, device, mels_mean, mels_std\n",
    "):\n",
    "    text_lengths_tensor = torch.LongTensor([len(phonemes_ids)])\n",
    "    reference = (reference - mels_mean) / mels_std\n",
    "    reference = reference.unsqueeze(0)\n",
    "    reference = reference.permute(0, 2, 1).to(device)\n",
    "    phonemes_ids_tensor = torch.LongTensor(phonemes_ids).unsqueeze(0).to(device)\n",
    "    speaker_ids_tensor = torch.LongTensor([speaker_id]).to(device)\n",
    "    return phonemes_ids_tensor, text_lengths_tensor, speaker_ids_tensor, reference"
   ]
  },
  {
   "cell_type": "code",
   "execution_count": 36,
   "id": "467e85f1",
   "metadata": {},
   "outputs": [],
   "source": [
    "reference_pathes = Path(f\"references/{config.lang}\")"
   ]
  },
  {
   "cell_type": "code",
   "execution_count": 37,
   "id": "6dd0cd65",
   "metadata": {},
   "outputs": [],
   "source": [
    "generated_path = Path(f\"generated_hifi/{config.checkpoint_name}\")"
   ]
  },
  {
   "cell_type": "code",
   "execution_count": 38,
   "id": "23974a7f",
   "metadata": {},
   "outputs": [],
   "source": [
    "with open(checkpoint_path / \"feature\"/ \"speakers.json\") as f:\n",
    "    speaker_to_id = json.load(f)"
   ]
  },
  {
   "cell_type": "code",
   "execution_count": 39,
   "id": "e3f77453",
   "metadata": {},
   "outputs": [],
   "source": [
    "mels_mean = torch.load(checkpoint_path / \"feature\" / \"mels_mean.pth\", map_location=device).float()\n",
    "mels_std = torch.load(checkpoint_path / \"feature\" / \"mels_std.pth\", map_location=device).float()"
   ]
  },
  {
   "cell_type": "code",
   "execution_count": 45,
   "id": "c6afd502",
   "metadata": {},
   "outputs": [
    {
     "data": {
      "application/vnd.jupyter.widget-view+json": {
       "model_id": "61ab666a606f47beab82a2a9acafad65",
       "version_major": 2,
       "version_minor": 0
      },
      "text/plain": [
       "  0%|          | 0/50 [00:00<?, ?it/s]"
      ]
     },
     "metadata": {},
     "output_type": "display_data"
    }
   ],
   "source": [
    "for reference in tqdm(list(reference_pathes.rglob(\"*.pkl\"))):\n",
    "    speaker = reference.parent.name\n",
    "    speaker_id = speaker_to_id[speaker]\n",
    "    ref_mel = torch.load(reference, map_location=device)\n",
    "    for i, phonemes in enumerate(phonemes_list):\n",
    "        batch = get_tacotron_batch(phonemes, ref_mel, speaker_id, device, mels_mean, mels_std)\n",
    "        with torch.no_grad():\n",
    "            mels = feature_model.inference(batch)\n",
    "            mels = mels.permute(0, 2, 1).squeeze(0)\n",
    "            mels = mels * mels_std.to(device) + mels_mean.to(device)\n",
    "            x = mels.unsqueeze(0)\n",
    "            for generator_path in generators:\n",
    "                state_dict = torch.load(generator_path, map_location=\"cpu\")\n",
    "                state_dict[\"generator\"] = {k: v.to(device) for k, v in state_dict[\"generator\"].items()}\n",
    "                generator = Generator(config=config.train_hifi.model_param, num_mels=config.n_mels).to(device)\n",
    "                generator.load_state_dict(state_dict[\"generator\"])\n",
    "                generator.remove_weight_norm()\n",
    "                generator.eval()\n",
    "                y_g_hat = generator(x)\n",
    "                audio = y_g_hat.squeeze()\n",
    "                audio = audio * 32768\n",
    "                audio = audio.type(torch.int16).detach().cpu().numpy()\n",
    "                save_path = generated_path / generator_path.stem / speaker / reference.stem\n",
    "                save_path.mkdir(exist_ok=True, parents=True)\n",
    "                wav_write(save_path / f\"{i + 1}.wav\", 22050, audio)\n",
    "                torch.cuda.empty_cache()\n"
   ]
  },
  {
   "cell_type": "code",
   "execution_count": null,
   "id": "7d225a75",
   "metadata": {},
   "outputs": [],
   "source": []
  }
 ],
 "metadata": {
  "kernelspec": {
   "display_name": "Python 3 (ipykernel)",
   "language": "python",
   "name": "python3"
  },
  "language_info": {
   "codemirror_mode": {
    "name": "ipython",
    "version": 3
   },
   "file_extension": ".py",
   "mimetype": "text/x-python",
   "name": "python",
   "nbconvert_exporter": "python",
   "pygments_lexer": "ipython3",
   "version": "3.9.12"
  }
 },
 "nbformat": 4,
 "nbformat_minor": 5
}
